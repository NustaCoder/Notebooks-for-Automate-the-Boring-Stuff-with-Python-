{
  "nbformat": 4,
  "nbformat_minor": 0,
  "metadata": {
    "colab": {
      "name": "Random_Quiz_Generator.ipynb",
      "provenance": []
    },
    "kernelspec": {
      "name": "python3",
      "display_name": "Python 3"
    },
    "language_info": {
      "name": "python"
    }
  },
  "cells": [
    {
      "cell_type": "code",
      "source": [
        "import re\n",
        "import random"
      ],
      "metadata": {
        "id": "0kKgobbKquT2"
      },
      "execution_count": 2,
      "outputs": []
    },
    {
      "cell_type": "markdown",
      "source": [
        "\n",
        "\n",
        "*   Creates 35 different quizzes.\n",
        "*   Creates 50 multiple-choice questions for each quiz, in random order.\n",
        "*   Provides the correct answer and three random wrong answers for each\n",
        "question, in random order.\n",
        "*   Writes the quizzes to 35 text files.\n",
        "*   Writes the answer keys to 35 text files.\n",
        "\n",
        "  This means the code will need to do the following:\n",
        "  *   Store the states and their capitals in a dictionary.\n",
        "  *   Call open(), write(), and close() for the quiz and answer key text files.\n",
        "  *   Use random.shuffle() to randomize the order of the questions and\n",
        "multiple-choice options.\n",
        "\n",
        "\n",
        "\n",
        "\n",
        "\n"
      ],
      "metadata": {
        "id": "409dGgpteUUD"
      }
    },
    {
      "cell_type": "code",
      "source": [
        "capitals = {'Alabama': 'Montgomery', 'Alaska': 'Juneau', 'Arizona': 'Phoenix',\n",
        "'Arkansas': 'Little Rock', 'California': 'Sacramento', 'Colorado': 'Denver',\n",
        "'Connecticut': 'Hartford', 'Delaware': 'Dover', 'Florida': 'Tallahassee',\n",
        "'Georgia': 'Atlanta', 'Hawaii': 'Honolulu', 'Idaho': 'Boise', 'Illinois':\n",
        "'Springfield', 'Indiana': 'Indianapolis', 'Iowa': 'Des Moines', 'Kansas':\n",
        "'Topeka', 'Kentucky': 'Frankfort', 'Louisiana': 'Baton Rouge', 'Maine':\n",
        "'Augusta', 'Maryland': 'Annapolis', 'Massachusetts': 'Boston', 'Michigan':\n",
        "'Lansing', 'Minnesota': 'Saint Paul', 'Mississippi': 'Jackson', 'Missouri':\n",
        "'Jefferson City', 'Montana': 'Helena', 'Nebraska': 'Lincoln', 'Nevada':\n",
        "'Carson City', 'New Hampshire': 'Concord', 'New Jersey': 'Trenton', 'New Mexico': 'Santa Fe', 'New York': 'Albany', 'North Carolina': 'Raleigh',\n",
        "'North Dakota': 'Bismarck', 'Ohio': 'Columbus', 'Oklahoma': 'Oklahoma City',\n",
        "'Oregon': 'Salem', 'Pennsylvania': 'Harrisburg', 'Rhode Island': 'Providence',\n",
        "'South Carolina': 'Columbia', 'South Dakota': 'Pierre', 'Tennessee':\n",
        "'Nashville', 'Texas': 'Austin', 'Utah': 'Salt Lake City', 'Vermont':\n",
        "'Montpelier', 'Virginia': 'Richmond', 'Washington': 'Olympia', 'West Virginia': 'Charleston', 'Wisconsin': 'Madison', 'Wyoming': 'Cheyenne'}"
      ],
      "metadata": {
        "id": "D-k1ZWFvdxWr"
      },
      "execution_count": 3,
      "outputs": []
    },
    {
      "cell_type": "code",
      "source": [
        "no_of_quiz = 35\n",
        "no_of_questions = 50\n",
        "for i in range(no_of_quiz):\n",
        "  #create the quiz and answer key files\n",
        "  question_paper = open(\"quiz%s.txt\"%(i+1), 'w')\n",
        "  answer_key = open(\"answer_key%s.txt\"%(i+1), 'w')\n",
        "  \n",
        "  #write header of paper\n",
        "  question_paper.write('Name:\\n\\nDate:\\n\\nPeriod:\\n\\n')\n",
        "  question_paper.write((' ' * 20) + 'State Capitals Quiz (Form %s)' % (i + 1))\n",
        "  question_paper.write('\\n\\n')\n",
        "  \n",
        "  #shuffle capitals\n",
        "  states = list(capitals.keys())\n",
        "  random.shuffle(states)\n",
        "\n",
        "  #generate random questions and answers\n",
        "  for questionNum in range(no_of_questions):\n",
        "    #get correct answer\n",
        "    correct_ans = capitals[states[questionNum]]\n",
        "    #get wrong options\n",
        "    wrong_ans = list(capitals.values())\n",
        "    wrong_ans.remove(correct_ans)\n",
        "    wrong_options = random.sample(wrong_ans, 3)\n",
        "    #take 4 choices\n",
        "    choice_options = wrong_options + [correct_ans]\n",
        "    random.shuffle(choice_options)\n",
        "    #write question and answer\n",
        "    question_paper.write(\"%s. What is the capital of %s ?\\n\"%(questionNum+1, states[questionNum]))\n",
        "    question_paper.write(\"(a) %s \\n\"%(choice_options[0]))\n",
        "    question_paper.write(\"(b) %s \\n\"%(choice_options[1]))\n",
        "    question_paper.write(\"(c) %s \\n\"%(choice_options[2]))\n",
        "    question_paper.write(\"(d) %s \\n\\n\"%(choice_options[3]))\n",
        "    answer_key.write(\"%s. %s : %s\\n\"%(questionNum+1, states[questionNum], correct_ans))\n",
        "  question_paper.close()\n",
        "  answer_key.close()\n",
        "\n"
      ],
      "metadata": {
        "id": "EeZ-63Ltf67P"
      },
      "execution_count": 8,
      "outputs": []
    },
    {
      "cell_type": "code",
      "source": [
        ""
      ],
      "metadata": {
        "id": "nmWY1wmfs1s6"
      },
      "execution_count": null,
      "outputs": []
    },
    {
      "cell_type": "markdown",
      "source": [
        ""
      ],
      "metadata": {
        "id": "xEgr7j9-eSXM"
      }
    }
  ]
}